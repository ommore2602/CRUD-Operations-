{
 "cells": [
  {
   "cell_type": "markdown",
   "id": "85386506",
   "metadata": {},
   "source": [
    "# Import Library  "
   ]
  },
  {
   "cell_type": "code",
   "execution_count": 1,
   "id": "594b006e",
   "metadata": {},
   "outputs": [],
   "source": [
    " import pandas as pd"
   ]
  },
  {
   "cell_type": "markdown",
   "id": "e61e57bc",
   "metadata": {},
   "source": [
    "# 1. CREATE- Add New Records"
   ]
  },
  {
   "cell_type": "markdown",
   "id": "8940e777",
   "metadata": {},
   "source": [
    "### Insert a new row (or record) into the dataset."
   ]
  },
  {
   "cell_type": "code",
   "execution_count": 2,
   "id": "c88dd770",
   "metadata": {},
   "outputs": [],
   "source": [
    "# Define the sales data\n",
    "data = [\n",
    "    {'ID': 1, 'Product': 'Laptop', 'Price': 1000, 'Quantity': 10, 'Date': '2024-01-01'},\n",
    "    {'ID': 2, 'Product': 'Phone', 'Price': 500, 'Quantity': 20, 'Date': '2024-02-01'},\n",
    "    {'ID': 3, 'Product': 'Tablet', 'Price': 300, 'Quantity': 15, 'Date': '2024-03-01'},\n",
    "    {'ID': 4, 'Product': 'Monitor', 'Price': 200, 'Quantity': 8, 'Date': '2024-04-01'},\n",
    "    {'ID': 5, 'Product': 'Keyboard', 'Price': 50, 'Quantity': 30, 'Date': '2024-05-01'}\n",
    "]"
   ]
  },
  {
   "cell_type": "code",
   "execution_count": 3,
   "id": "7b559799",
   "metadata": {},
   "outputs": [
    {
     "data": {
      "text/html": [
       "<div>\n",
       "<style scoped>\n",
       "    .dataframe tbody tr th:only-of-type {\n",
       "        vertical-align: middle;\n",
       "    }\n",
       "\n",
       "    .dataframe tbody tr th {\n",
       "        vertical-align: top;\n",
       "    }\n",
       "\n",
       "    .dataframe thead th {\n",
       "        text-align: right;\n",
       "    }\n",
       "</style>\n",
       "<table border=\"1\" class=\"dataframe\">\n",
       "  <thead>\n",
       "    <tr style=\"text-align: right;\">\n",
       "      <th></th>\n",
       "      <th>ID</th>\n",
       "      <th>Product</th>\n",
       "      <th>Price</th>\n",
       "      <th>Quantity</th>\n",
       "      <th>Date</th>\n",
       "    </tr>\n",
       "  </thead>\n",
       "  <tbody>\n",
       "    <tr>\n",
       "      <th>0</th>\n",
       "      <td>1</td>\n",
       "      <td>Laptop</td>\n",
       "      <td>1000</td>\n",
       "      <td>10</td>\n",
       "      <td>2024-01-01</td>\n",
       "    </tr>\n",
       "    <tr>\n",
       "      <th>1</th>\n",
       "      <td>2</td>\n",
       "      <td>Phone</td>\n",
       "      <td>500</td>\n",
       "      <td>20</td>\n",
       "      <td>2024-02-01</td>\n",
       "    </tr>\n",
       "    <tr>\n",
       "      <th>2</th>\n",
       "      <td>3</td>\n",
       "      <td>Tablet</td>\n",
       "      <td>300</td>\n",
       "      <td>15</td>\n",
       "      <td>2024-03-01</td>\n",
       "    </tr>\n",
       "    <tr>\n",
       "      <th>3</th>\n",
       "      <td>4</td>\n",
       "      <td>Monitor</td>\n",
       "      <td>200</td>\n",
       "      <td>8</td>\n",
       "      <td>2024-04-01</td>\n",
       "    </tr>\n",
       "    <tr>\n",
       "      <th>4</th>\n",
       "      <td>5</td>\n",
       "      <td>Keyboard</td>\n",
       "      <td>50</td>\n",
       "      <td>30</td>\n",
       "      <td>2024-05-01</td>\n",
       "    </tr>\n",
       "  </tbody>\n",
       "</table>\n",
       "</div>"
      ],
      "text/plain": [
       "   ID   Product  Price  Quantity        Date\n",
       "0   1    Laptop   1000        10  2024-01-01\n",
       "1   2     Phone    500        20  2024-02-01\n",
       "2   3    Tablet    300        15  2024-03-01\n",
       "3   4   Monitor    200         8  2024-04-01\n",
       "4   5  Keyboard     50        30  2024-05-01"
      ]
     },
     "execution_count": 3,
     "metadata": {},
     "output_type": "execute_result"
    }
   ],
   "source": [
    "# Create a pandas DataFrame from the data\n",
    "df = pd.DataFrame(data)\n",
    "df"
   ]
  },
  {
   "cell_type": "code",
   "execution_count": 4,
   "id": "9e68acba",
   "metadata": {},
   "outputs": [
    {
     "name": "stdout",
     "output_type": "stream",
     "text": [
      "Dataset after adding new record:\n",
      "   ID   Product  Price  Quantity        Date\n",
      "0   1    Laptop   1000        10  2024-01-01\n",
      "1   2     Phone    500        20  2024-02-01\n",
      "2   3    Tablet    300        15  2024-03-01\n",
      "3   4   Monitor    200         8  2024-04-01\n",
      "4   5  Keyboard     50        30  2024-05-01\n"
     ]
    }
   ],
   "source": [
    "# Save the updated dataset back to the CSV file\n",
    "df.to_csv('sales_data.csv', index=False)\n",
    "\n",
    "print(\"Dataset after adding new record:\")\n",
    "print(df)"
   ]
  },
  {
   "cell_type": "markdown",
   "id": "f3211807",
   "metadata": {},
   "source": [
    "# 2. READ- Retrieve and display specific records"
   ]
  },
  {
   "cell_type": "markdown",
   "id": "77dbf872",
   "metadata": {},
   "source": [
    "### Involves reading the dataset and showing specific information based on certain conditions."
   ]
  },
  {
   "cell_type": "code",
   "execution_count": 5,
   "id": "1ef4c6dc",
   "metadata": {},
   "outputs": [
    {
     "name": "stdout",
     "output_type": "stream",
     "text": [
      "Products priced above $500:\n",
      "   ID Product  Price  Quantity        Date\n",
      "0   1  Laptop   1000        10  2024-01-01\n"
     ]
    }
   ],
   "source": [
    "# Load the dataset\n",
    "df = pd.read_csv('sales_data.csv')\n",
    "\n",
    "# Filter to display products with a price greater than 500\n",
    "filtered_df = df[df['Price'] > 500] #shows how many numbers of product ware above 500\n",
    "\n",
    "print(\"Products priced above $500:\") \n",
    "print(filtered_df)"
   ]
  },
  {
   "cell_type": "markdown",
   "id": "e7242085",
   "metadata": {},
   "source": [
    "# 3. UPDATE – Modify an Existing Record"
   ]
  },
  {
   "cell_type": "markdown",
   "id": "50c2f044",
   "metadata": {},
   "source": [
    "### Suppose we want to change the price of the product with ID = 2 (Phone) from 500 to 550."
   ]
  },
  {
   "cell_type": "code",
   "execution_count": 6,
   "id": "87e8eda7",
   "metadata": {},
   "outputs": [
    {
     "name": "stdout",
     "output_type": "stream",
     "text": [
      "Dataset after updating the price of Phone:\n",
      "   ID   Product  Price  Quantity        Date\n",
      "0   1    Laptop   1000        10  2024-01-01\n",
      "1   2     Phone    550        20  2024-02-01\n",
      "2   3    Tablet    300        15  2024-03-01\n",
      "3   4   Monitor    200         8  2024-04-01\n",
      "4   5  Keyboard     50        30  2024-05-01\n"
     ]
    }
   ],
   "source": [
    "# Load the dataset\n",
    "df = pd.read_csv('sales_data.csv')\n",
    "\n",
    "# Locate the record with ID 2 and update the price\n",
    "df.loc[df['ID'] == 2, 'Price'] = 550\n",
    "\n",
    "# Save the updated dataset back to the CSV file\n",
    "df.to_csv('sales_data.csv', index=False)\n",
    "\n",
    "print(\"Dataset after updating the price of Phone:\")\n",
    "print(df)\n"
   ]
  },
  {
   "cell_type": "markdown",
   "id": "292546d0",
   "metadata": {},
   "source": [
    "#### You can see here phone price will be updated "
   ]
  },
  {
   "cell_type": "markdown",
   "id": "511834d7",
   "metadata": {},
   "source": [
    "# 4. DELETE – Remove Specific Records\n"
   ]
  },
  {
   "cell_type": "markdown",
   "id": "913b0f2c",
   "metadata": {},
   "source": [
    "### Let’s delete the record with ID = 3 (Tablet)."
   ]
  },
  {
   "cell_type": "code",
   "execution_count": 7,
   "id": "0ba9a90a",
   "metadata": {},
   "outputs": [
    {
     "name": "stdout",
     "output_type": "stream",
     "text": [
      "Dataset after deleting the record with ID = 3:\n",
      "   ID   Product  Price  Quantity        Date\n",
      "0   1    Laptop   1000        10  2024-01-01\n",
      "1   2     Phone    550        20  2024-02-01\n",
      "3   4   Monitor    200         8  2024-04-01\n",
      "4   5  Keyboard     50        30  2024-05-01\n"
     ]
    }
   ],
   "source": [
    "# Load the dataset\n",
    "df = pd.read_csv('sales_data.csv')\n",
    "\n",
    "# Delete the record with ID = 3\n",
    "df = df[df['ID'] != 3]\n",
    "\n",
    "# Save the updated dataset back to the CSV file\n",
    "df.to_csv('sales_data.csv', index=False)\n",
    "\n",
    "print(\"Dataset after deleting the record with ID = 3:\")\n",
    "print(df)"
   ]
  }
 ],
 "metadata": {
  "kernelspec": {
   "display_name": "Python 3 (ipykernel)",
   "language": "python",
   "name": "python3"
  },
  "language_info": {
   "codemirror_mode": {
    "name": "ipython",
    "version": 3
   },
   "file_extension": ".py",
   "mimetype": "text/x-python",
   "name": "python",
   "nbconvert_exporter": "python",
   "pygments_lexer": "ipython3",
   "version": "3.11.5"
  }
 },
 "nbformat": 4,
 "nbformat_minor": 5
}
